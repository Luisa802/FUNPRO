{
  "nbformat": 4,
  "nbformat_minor": 0,
  "metadata": {
    "colab": {
      "provenance": []
    },
    "kernelspec": {
      "name": "python3",
      "display_name": "Python 3"
    },
    "language_info": {
      "name": "python"
    }
  },
  "cells": [
    {
      "cell_type": "markdown",
      "source": [],
      "metadata": {
        "id": "R_HGooCSRVZI"
      }
    },
    {
      "cell_type": "code",
      "execution_count": 13,
      "metadata": {
        "colab": {
          "base_uri": "https://localhost:8080/"
        },
        "id": "tUx3zd4iQ8rH",
        "outputId": "857515de-653d-473d-8a64-b335e57a325b"
      },
      "outputs": [
        {
          "name": "stdout",
          "output_type": "stream",
          "text": [
            "Detecto poca gasolina en el tanque\n",
            "Desea ir a la gasolinera más cercana?si\n"
          ]
        }
      ],
      "source": [
        "#Ejemplo1: AI para gasolina\n",
        "respuestra=\"\" #Declaramos una variable como caracter\n",
        "#Para imprimir, usamos el comando print\n",
        "respuesta=input(\"Detecto poca gasolina en el tanque\\nDesea ir a la gasolinera más cercana?\")"
      ]
    },
    {
      "cell_type": "code",
      "source": [
        "if respuesta==\"si\":\n",
        "  print(\"ir a la gasolinera más cercana\")\n",
        "else:\n",
        "  print(\"seguimos derecho\")"
      ],
      "metadata": {
        "colab": {
          "base_uri": "https://localhost:8080/"
        },
        "id": "GalvI7Fac8jP",
        "outputId": "03181b21-ecc8-4790-9c6b-4cd093a0511e"
      },
      "execution_count": 14,
      "outputs": [
        {
          "output_type": "stream",
          "name": "stdout",
          "text": [
            "ir a la gasolinera más cercana\n"
          ]
        }
      ]
    },
    {
      "cell_type": "code",
      "source": [
        "#Vamos a mejor el ejercicio\n",
        "import random #importando la libreria raandom\n",
        "gasolina=random.randint(1,100) #Hallar un número aleatorio entre 1 y 100\n",
        "gasolina"
      ],
      "metadata": {
        "colab": {
          "base_uri": "https://localhost:8080/"
        },
        "id": "9ib37yREgVlr",
        "outputId": "25644e6f-d923-4cd8-ec87-02c33526fbbe"
      },
      "execution_count": 64,
      "outputs": [
        {
          "output_type": "execute_result",
          "data": {
            "text/plain": [
              "65"
            ]
          },
          "metadata": {},
          "execution_count": 64
        }
      ]
    },
    {
      "cell_type": "code",
      "source": [
        "if gasolina<=10:\n",
        "  respuesta=input(\"Detecto poca gasolina en el tanque\\nDesea ir a la gasolinera más cercana?\")\n",
        "  if respuesta==\"si\":\n",
        "    print(\"ir a la gasolinera más cercana\")\n",
        "  else:\n",
        "    print(\"seguimos derecho\")\n",
        "else:\n",
        "  print(\"sigo por el camino\")"
      ],
      "metadata": {
        "colab": {
          "base_uri": "https://localhost:8080/"
        },
        "id": "egy_EZS0g39-",
        "outputId": "b6fde130-6f7a-46e3-b057-5e7947b7a7af"
      },
      "execution_count": 25,
      "outputs": [
        {
          "output_type": "stream",
          "name": "stdout",
          "text": [
            "sigo por el camino\n"
          ]
        }
      ]
    }
  ]
}