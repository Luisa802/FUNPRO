{
  "nbformat": 4,
  "nbformat_minor": 0,
  "metadata": {
    "colab": {
      "provenance": [],
      "authorship_tag": "ABX9TyPV8jyBXR2EU1kRL6PK6yFJ",
      "include_colab_link": true
    },
    "kernelspec": {
      "name": "python3",
      "display_name": "Python 3"
    },
    "language_info": {
      "name": "python"
    }
  },
  "cells": [
    {
      "cell_type": "markdown",
      "metadata": {
        "id": "view-in-github",
        "colab_type": "text"
      },
      "source": [
        "<a href=\"https://colab.research.google.com/github/Luisa802/FUNPRO/blob/main/Tarea.ipynb\" target=\"_parent\"><img src=\"https://colab.research.google.com/assets/colab-badge.svg\" alt=\"Open In Colab\"/></a>"
      ]
    },
    {
      "cell_type": "code",
      "execution_count": null,
      "metadata": {
        "colab": {
          "base_uri": "https://localhost:8080/"
        },
        "id": "TmC2c47rXuzS",
        "outputId": "fd4eacf1-9d4a-406f-906d-e2e4ac59a7e0"
      },
      "outputs": [
        {
          "output_type": "stream",
          "name": "stdout",
          "text": [
            "ingrese la humedad: 25\n",
            "ingrese la probabilidad de lluvia: 30\n",
            "ingrese la temperatura: 25\n",
            "hora: 11\n",
            "No regar\n"
          ]
        }
      ],
      "source": [
        "humedad_suelo=float(input(\"ingrese la humedad: \"))\n",
        "prob_lluvia=float(input(\"ingrese la probabilidad de lluvia: \"))\n",
        "temp_c=float(input(\"ingrese la temperatura: \"))\n",
        "hora=int(input(\"hora: \"))\n",
        "if humedad_suelo==0 or prob_lluvia==0 or temp_c==0 or horas==0:\n",
        "  print(\"Error sensor\")\n",
        "else:\n",
        "  if prob_lluvia>=70:\n",
        "    print(\"No regar\")\n",
        "  else:\n",
        "    if humedad_suelo<35 or prob_lluvia<40 or (horas>=11 and horas<=15):\n",
        "      print(\"No regar\")\n",
        "    elif humedad_suelo>35:\n",
        "      print(\"no regar\")\n",
        "    elif prob_lluvia>40:\n",
        "      print(\"no regar\")\n",
        "    elif (horas>=11 and horas<=15) and temp_c>35:\n",
        "      print(\"no regar\")\n",
        "    elif (horas>=11 and horas<=15) and temp_c<35:\n",
        "      print(\"si regar\")"
      ]
    }
  ]
}